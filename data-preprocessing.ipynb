{
 "cells": [
  {
   "cell_type": "code",
   "execution_count": 44,
   "metadata": {},
   "outputs": [
    {
     "name": "stdout",
     "output_type": "stream",
     "text": [
      "Looking in indexes: https://pypi.python.org/simple, https://pypi.apple.com/simple\n",
      "Requirement already satisfied: numpy in /usr/local/lib/python3.8/site-packages (1.19.4)\n",
      "Looking in indexes: https://pypi.python.org/simple, https://pypi.apple.com/simple\n",
      "Requirement already satisfied: pandas in /usr/local/lib/python3.8/site-packages (1.1.4)\n",
      "Requirement already satisfied: pytz>=2017.2 in /usr/local/lib/python3.8/site-packages (from pandas) (2020.4)\n",
      "Requirement already satisfied: numpy>=1.15.4 in /usr/local/lib/python3.8/site-packages (from pandas) (1.19.4)\n",
      "Requirement already satisfied: python-dateutil>=2.7.3 in /usr/local/lib/python3.8/site-packages (from pandas) (2.8.1)\n",
      "Requirement already satisfied: six>=1.5 in /usr/local/lib/python3.8/site-packages (from python-dateutil>=2.7.3->pandas) (1.15.0)\n"
     ]
    }
   ],
   "source": [
    "import sys\n",
    "import os\n",
    "import re\n",
    "!{sys.executable} -m pip install numpy\n",
    "!{sys.executable} -m pip install pandas"
   ]
  },
  {
   "cell_type": "code",
   "execution_count": 46,
   "metadata": {},
   "outputs": [],
   "source": [
    "import pandas as pd\n",
    "import numpy as np\n",
    "\n",
    "IGNORED_FILES = ['.DS_Store']\n",
    "RAW_DATA_ROOT_PATH = 'data/kaggle_raw/'\n",
    "\n"
   ]
  },
  {
   "cell_type": "code",
   "execution_count": 82,
   "metadata": {},
   "outputs": [
    {
     "data": {
      "text/plain": [
       "['Infants_Partially_Breastfed State',\n",
       " 'Infants_Partially_Breastfed 2014-10-01',\n",
       " 'Infants_Partially_Breastfed 2014-11-01',\n",
       " 'Infants_Partially_Breastfed 2014-12-01',\n",
       " 'Infants_Partially_Breastfed 2015-01-01',\n",
       " 'Infants_Partially_Breastfed 2015-02-01',\n",
       " 'Infants_Partially_Breastfed 2015-03-01',\n",
       " 'Infants_Partially_Breastfed 2015-04-01',\n",
       " 'Infants_Partially_Breastfed 2015-05-01',\n",
       " 'Infants_Partially_Breastfed 2015-06-01',\n",
       " 'Infants_Partially_Breastfed 2015-07-01',\n",
       " 'Infants_Partially_Breastfed 2015-08-01',\n",
       " 'Infants_Partially_Breastfed 2015-09-01',\n",
       " 'Infants_Partially_Breastfed Average']"
      ]
     },
     "execution_count": 82,
     "metadata": {},
     "output_type": "execute_result"
    }
   ],
   "source": [
    "# Writes a list of paths to files in data directory\n",
    "def write_data_paths():\n",
    "    data_paths = []\n",
    "    for subdir, dirs, files in os.walk(RAW_DATA_ROOT_PATH):\n",
    "        for file in files:\n",
    "            if file not in IGNORED_FILES:\n",
    "                data_paths.append(os.path.join(subdir, file))\n",
    "    return data_paths\n",
    "\n",
    "\n",
    "\n",
    "data_paths = write_data_paths()\n",
    "WIC_dir_re = re.compile('data\\/kaggle_raw\\/WICAgencies*.{4}ytd\\/.*\\.csv')\n",
    "WIC_data_paths = [path for path in data_paths if re.findall(WIC_dir_re, path)]\n",
    "\n",
    "subtitle = re.findall(re.compile('data\\/kaggle_raw\\/WICAgencies*.{4}ytd\\/(.*)\\.csv'),WIC_data_paths[0])[0]\n",
    "subtitle\n",
    "headers = [\" \".join([subtitle,col.split()[0]]) for col in list(pd.read_csv(WIC_data_paths[0], nrows=1))]\n",
    "headers\n",
    "#WIC_df = pd.read_csv(WIC_data_paths[0], index_col='State Agency or Indian Tribal Organization',usecols =[i for i in headers if i != 'Cumulative Average'], names=headers, header=0)\n",
    "#\n",
    "#WIC_df\n",
    "#wic_agencies_13_ytd = pd.read_csv(\"data/kaggle_raw/WICAgencies2013ytd\")\n",
    "#wic_agencies_13_ytd"
   ]
  },
  {
   "cell_type": "code",
   "execution_count": null,
   "metadata": {},
   "outputs": [],
   "source": []
  }
 ],
 "metadata": {
  "kernelspec": {
   "display_name": "Python 3",
   "language": "python",
   "name": "python3"
  },
  "language_info": {
   "codemirror_mode": {
    "name": "ipython",
    "version": 3
   },
   "file_extension": ".py",
   "mimetype": "text/x-python",
   "name": "python",
   "nbconvert_exporter": "python",
   "pygments_lexer": "ipython3",
   "version": "3.8.5"
  }
 },
 "nbformat": 4,
 "nbformat_minor": 4
}
